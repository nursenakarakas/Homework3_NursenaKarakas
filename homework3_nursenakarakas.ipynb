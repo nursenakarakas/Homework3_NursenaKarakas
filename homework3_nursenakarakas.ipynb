{
 "cells": [
  {
   "cell_type": "code",
   "execution_count": 1,
   "metadata": {},
   "outputs": [],
   "source": [
    "#question 1\n",
    "import nsfg"
   ]
  },
  {
   "cell_type": "code",
   "execution_count": 2,
   "metadata": {},
   "outputs": [],
   "source": [
    "resp=nsfg.ReadFemResp()"
   ]
  },
  {
   "cell_type": "code",
   "execution_count": 3,
   "metadata": {},
   "outputs": [
    {
     "name": "stdout",
     "output_type": "stream",
     "text": [
      "1       2.0\n",
      "2       1.0\n",
      "5       1.0\n",
      "8       1.0\n",
      "10      1.0\n",
      "11      1.0\n",
      "12      1.0\n",
      "13      2.0\n",
      "14      1.0\n",
      "16      1.0\n",
      "17      1.0\n",
      "19      1.0\n",
      "21      1.0\n",
      "22      1.0\n",
      "23      1.0\n",
      "24      1.0\n",
      "27      1.0\n",
      "28      1.0\n",
      "29      1.0\n",
      "30      1.0\n",
      "31      1.0\n",
      "33      1.0\n",
      "34      1.0\n",
      "35      1.0\n",
      "36      1.0\n",
      "38      1.0\n",
      "42      2.0\n",
      "43      1.0\n",
      "44      1.0\n",
      "45      2.0\n",
      "       ... \n",
      "7583    1.0\n",
      "7590    1.0\n",
      "7591    1.0\n",
      "7593    1.0\n",
      "7598    2.0\n",
      "7599    3.0\n",
      "7601    1.0\n",
      "7603    1.0\n",
      "7605    1.0\n",
      "7606    1.0\n",
      "7607    3.0\n",
      "7608    1.0\n",
      "7609    4.0\n",
      "7612    1.0\n",
      "7614    1.0\n",
      "7616    2.0\n",
      "7617    1.0\n",
      "7618    1.0\n",
      "7619    1.0\n",
      "7620    1.0\n",
      "7624    1.0\n",
      "7629    1.0\n",
      "7630    1.0\n",
      "7632    1.0\n",
      "7633    1.0\n",
      "7634    1.0\n",
      "7635    1.0\n",
      "7636    1.0\n",
      "7637    1.0\n",
      "7638    2.0\n",
      "Name: timesmar, Length: 4126, dtype: float64\n"
     ]
    }
   ],
   "source": [
    "#for timesmar \n",
    "timesmar=resp['timesmar'].dropna()\n",
    "print timesmar"
   ]
  },
  {
   "cell_type": "code",
   "execution_count": 4,
   "metadata": {},
   "outputs": [
    {
     "name": "stdout",
     "output_type": "stream",
     "text": [
      "1.38705768299\n"
     ]
    }
   ],
   "source": [
    "mean_timesmar=resp['timesmar'].dropna().mean()\n",
    "print mean_timesmar"
   ]
  },
  {
   "cell_type": "code",
   "execution_count": 5,
   "metadata": {},
   "outputs": [
    {
     "name": "stdout",
     "output_type": "stream",
     "text": [
      "4.29711302325\n"
     ]
    }
   ],
   "source": [
    "std_timesmar=resp['timesmar'].dropna().std()\n",
    "print std_timesmar"
   ]
  },
  {
   "cell_type": "code",
   "execution_count": 6,
   "metadata": {},
   "outputs": [
    {
     "name": "stdout",
     "output_type": "stream",
     "text": [
      "11      1.0\n",
      "12      2.0\n",
      "13      1.0\n",
      "25      3.0\n",
      "29      2.0\n",
      "43      1.0\n",
      "45      1.0\n",
      "48      2.0\n",
      "51      2.0\n",
      "57      2.0\n",
      "58      2.0\n",
      "60      2.0\n",
      "74      1.0\n",
      "81      1.0\n",
      "85      1.0\n",
      "88      2.0\n",
      "91      5.0\n",
      "100     4.0\n",
      "104     1.0\n",
      "116     5.0\n",
      "121     2.0\n",
      "127     1.0\n",
      "128     1.0\n",
      "140     2.0\n",
      "141     1.0\n",
      "150     2.0\n",
      "169     1.0\n",
      "183     1.0\n",
      "196     1.0\n",
      "197     3.0\n",
      "       ... \n",
      "7463    1.0\n",
      "7471    2.0\n",
      "7487    1.0\n",
      "7488    1.0\n",
      "7490    5.0\n",
      "7498    1.0\n",
      "7505    1.0\n",
      "7507    4.0\n",
      "7528    3.0\n",
      "7529    2.0\n",
      "7533    1.0\n",
      "7534    2.0\n",
      "7537    2.0\n",
      "7542    1.0\n",
      "7547    2.0\n",
      "7552    3.0\n",
      "7558    1.0\n",
      "7559    2.0\n",
      "7567    2.0\n",
      "7572    2.0\n",
      "7573    1.0\n",
      "7583    2.0\n",
      "7591    1.0\n",
      "7596    2.0\n",
      "7597    2.0\n",
      "7614    2.0\n",
      "7617    2.0\n",
      "7620    1.0\n",
      "7623    2.0\n",
      "7638    2.0\n",
      "Name: jintendn, Length: 1408, dtype: float64\n"
     ]
    }
   ],
   "source": [
    "#for jintendn\n",
    "jintendn=resp['jintendn'].dropna()\n",
    "print jintendn\n"
   ]
  },
  {
   "cell_type": "code",
   "execution_count": 7,
   "metadata": {},
   "outputs": [
    {
     "name": "stdout",
     "output_type": "stream",
     "text": [
      "2.70525568182\n"
     ]
    }
   ],
   "source": [
    "mean_jintendn=resp['jintendn'].dropna().mean()\n",
    "print mean_jintendn"
   ]
  },
  {
   "cell_type": "code",
   "execution_count": 8,
   "metadata": {},
   "outputs": [
    {
     "name": "stdout",
     "output_type": "stream",
     "text": [
      "9.71010805146\n"
     ]
    }
   ],
   "source": [
    "std_jintendn=resp['jintendn'].dropna().std()\n",
    "print std_jintendn"
   ]
  },
  {
   "cell_type": "code",
   "execution_count": 9,
   "metadata": {},
   "outputs": [
    {
     "data": {
      "image/png": "[encoded data removed]",
      "text/plain": [
       "<matplotlib.figure.Figure at 0x183c54f0>"
      ]
     },
     "metadata": {},
     "output_type": "display_data"
    },
    {
     "data": {
      "text/plain": [
       "<matplotlib.figure.Figure at 0x182201b0>"
      ]
     },
     "metadata": {},
     "output_type": "display_data"
    }
   ],
   "source": [
    "#question 3\n",
    "#pdf for timesmar\n",
    "import thinkstats2\n",
    "import thinkplot\n",
    "timesmar_normalizedpdf = thinkstats2.NormalPdf(mean_timesmar, std_timesmar)\n",
    "thinkplot.Pdf(timesmar_normalizedpdf, label='normal')\n",
    "thinkplot.Show()"
   ]
  },
  {
   "cell_type": "code",
   "execution_count": 10,
   "metadata": {},
   "outputs": [
    {
     "data": {
      "image/png": "[encoded data removed]",
      "text/plain": [
       "<matplotlib.figure.Figure at 0x18212130>"
      ]
     },
     "metadata": {},
     "output_type": "display_data"
    },
    {
     "data": {
      "text/plain": [
       "<matplotlib.figure.Figure at 0x181f30b0>"
      ]
     },
     "metadata": {},
     "output_type": "display_data"
    }
   ],
   "source": [
    "# pdf for jintendn\n",
    "jintendn_normalizedpdf = thinkstats2.NormalPdf(mean_jintendn, std_jintendn)\n",
    "thinkplot.Pdf(jintendn_normalizedpdf, label='normal')\n",
    "thinkplot.Show()"
   ]
  },
  {
   "cell_type": "markdown",
   "metadata": {},
   "source": [
    "plot shows max normalize prob density is approximately 0.1 for timesmar\n",
    "other plot shows max normalize prob density is approximately 0.042 for jintendn"
   ]
  },
  {
   "cell_type": "code",
   "execution_count": 11,
   "metadata": {},
   "outputs": [
    {
     "data": {
      "image/png": "[encoded data removed]",
      "text/plain": [
       "<matplotlib.figure.Figure at 0x183c5710>"
      ]
     },
     "metadata": {},
     "output_type": "display_data"
    },
    {
     "data": {
      "text/plain": [
       "<matplotlib.figure.Figure at 0x18212c50>"
      ]
     },
     "metadata": {},
     "output_type": "display_data"
    }
   ],
   "source": [
    "#5\n",
    "timesmar_pdf = thinkstats2.NormalPdf(resp['timesmar'].mean(), resp['timesmar'].std())\n",
    "thinkplot.Pdf(timesmar_pdf, label='normal')\n",
    "thinkplot.Show()"
   ]
  },
  {
   "cell_type": "code",
   "execution_count": 12,
   "metadata": {},
   "outputs": [
    {
     "data": {
      "image/png": "[encoded data removed]",
      "text/plain": [
       "<matplotlib.figure.Figure at 0x181fc5f0>"
      ]
     },
     "metadata": {},
     "output_type": "display_data"
    },
    {
     "data": {
      "text/plain": [
       "<matplotlib.figure.Figure at 0x181f62b0>"
      ]
     },
     "metadata": {},
     "output_type": "display_data"
    }
   ],
   "source": [
    "jintendn_pdf = thinkstats2.NormalPdf(resp['jintendn'].mean(), resp['jintendn'].std())\n",
    "thinkplot.Pdf(jintendn_pdf, label='normal')\n",
    "thinkplot.Show()"
   ]
  },
  {
   "cell_type": "code",
   "execution_count": 13,
   "metadata": {},
   "outputs": [
    {
     "name": "stdout",
     "output_type": "stream",
     "text": [
      "22.2193072207\n",
      "9.68691405793\n"
     ]
    }
   ],
   "source": [
    "#6\n",
    "#skewness\n",
    "import chapter06ex\n",
    "timesmar_skewness=chapter06ex.Skewness(resp['timesmar'].dropna())\n",
    "print timesmar_skewness\n",
    "jintendn_skewness=chapter06ex.Skewness(resp['jintendn'].dropna())\n",
    "print jintendn_skewness"
   ]
  },
  {
   "cell_type": "code",
   "execution_count": 14,
   "metadata": {},
   "outputs": [
    {
     "name": "stdout",
     "output_type": "stream",
     "text": [
      "0.27025442021\n",
      "0.527036842972\n"
     ]
    }
   ],
   "source": [
    "#pearson median skewness\n",
    "timesmar_pm_skewness=chapter06ex.PearsonMedianSkewness(resp['timesmar'].dropna())\n",
    "print timesmar_pm_skewness\n",
    "jintendn_pm_skewness=chapter06ex.PearsonMedianSkewness(resp['jintendn'].dropna())\n",
    "print jintendn_pm_skewness"
   ]
  },
  {
   "cell_type": "markdown",
   "metadata": {},
   "source": [
    "#7\n",
    "Skewness of timesmar is bigger than pearson median skewness of it.\n",
    "Again, Skewness of jintendn is larger than pearson median skewness of it."
   ]
  },
  {
   "cell_type": "code",
   "execution_count": 15,
   "metadata": {},
   "outputs": [
    {
     "data": {
      "image/png": "[encoded data removed]",
      "text/plain": [
       "<matplotlib.figure.Figure at 0x183bd270>"
      ]
     },
     "metadata": {},
     "output_type": "display_data"
    },
    {
     "data": {
      "text/plain": [
       "<matplotlib.figure.Figure at 0x1802ce30>"
      ]
     },
     "metadata": {},
     "output_type": "display_data"
    }
   ],
   "source": [
    "#drawing scatter plot\n",
    "#8\n",
    "times_of_mar, intend_to_have = resp.timesmar, resp.jintendn\n",
    "thinkplot.Scatter(times_of_mar, intend_to_have, alpha=0.01)\n",
    "times_of_mar = thinkstats2.Jitter(times_of_mar, 2)\n",
    "intend_to_have = thinkstats2.Jitter(intend_to_have, 2)\n",
    "thinkplot.Scatter(times_of_mar, intend_to_have, alpha=0.01)\n",
    "thinkplot.Show(xlabel='Times of Marriage', ylabel='Intending to have')"
   ]
  },
  {
   "cell_type": "code",
   "execution_count": 17,
   "metadata": {},
   "outputs": [
    {
     "name": "stdout",
     "output_type": "stream",
     "text": [
      "(0L, 1074)\n"
     ]
    }
   ],
   "source": [
    "#plotting percentiles\n",
    "#9\n",
    "import numpy as np\n",
    "cleaned=resp.dropna(subset=['timesmar','jintendn'])\n",
    "bins = np.arange(135,210,5)\n",
    "indices = np.digitize(cleaned.timesmar, bins)\n",
    "groups = cleaned.groupby(indices)\n",
    "for i, group in groups:\n",
    "    print(i, len(group))\n"
   ]
  },
  {
   "cell_type": "code",
   "execution_count": 18,
   "metadata": {},
   "outputs": [
    {
     "data": {
      "image/png": "[encoded data removed]",
      "text/plain": [
       "<matplotlib.figure.Figure at 0x183bd7b0>"
      ]
     },
     "metadata": {},
     "output_type": "display_data"
    },
    {
     "data": {
      "text/plain": [
       "<matplotlib.figure.Figure at 0x18024430>"
      ]
     },
     "metadata": {},
     "output_type": "display_data"
    }
   ],
   "source": [
    "mean_timesmar = [group.timesmar.mean() for i, group in groups]\n",
    "cdfs = [thinkstats2.Cdf(group.jintendn) for i, group in groups]\n",
    "for percent in [25, 50, 75]:\n",
    "    jintendn_percentile = [cdf.Percentile(percent) for cdf in cdfs]\n",
    "    label = '%dth' % percent\n",
    "    thinkplot.Plot(mean_timesmar, jintendn_percentile, label=label)\n",
    "    thinkplot.Config(xlabel='Times of Marriage',ylabel='Intending to have',axis=[0, 100, 0, 100],legend=True)\n",
    "thinkplot.Show()"
   ]
  },
  {
   "cell_type": "code",
   "execution_count": 19,
   "metadata": {},
   "outputs": [],
   "source": [
    "import scipy"
   ]
  },
  {
   "cell_type": "code",
   "execution_count": 20,
   "metadata": {},
   "outputs": [
    {
     "name": "stdout",
     "output_type": "stream",
     "text": [
      "(nan, 1.0)\n"
     ]
    },
    {
     "name": "stderr",
     "output_type": "stream",
     "text": [
      "C:\\Users\\nursenakarakas\\AppData\\Roaming\\Python\\Python27\\site-packages\\scipy\\stats\\stats.py:5240: RuntimeWarning: invalid value encountered in less\n",
      "  x = np.where(x < 1.0, x, 1.0)  # if x > 1 then return 1.0\n"
     ]
    }
   ],
   "source": [
    "#11\n",
    "pearsoncorr=scipy.stats.pearsonr(resp['timesmar'],resp['jintendn'])\n",
    "print pearsoncorr"
   ]
  },
  {
   "cell_type": "code",
   "execution_count": 22,
   "metadata": {},
   "outputs": [
    {
     "ename": "ValueError",
     "evalue": "all the input array dimensions except for the concatenation axis must match exactly",
     "output_type": "error",
     "traceback": [
      "\u001b[1;31m---------------------------------------------------------------------------\u001b[0m",
      "\u001b[1;31mValueError\u001b[0m                                Traceback (most recent call last)",
      "\u001b[1;32m<ipython-input-22-0053618de7b9>\u001b[0m in \u001b[0;36m<module>\u001b[1;34m()\u001b[0m\n\u001b[0;32m      1\u001b[0m \u001b[1;33m\u001b[0m\u001b[0m\n\u001b[1;32m----> 2\u001b[1;33m \u001b[0mspearm_corr\u001b[0m\u001b[1;33m=\u001b[0m\u001b[0mscipy\u001b[0m\u001b[1;33m.\u001b[0m\u001b[0mstats\u001b[0m\u001b[1;33m.\u001b[0m\u001b[0mspearmanr\u001b[0m\u001b[1;33m(\u001b[0m\u001b[0mresp\u001b[0m\u001b[1;33m[\u001b[0m\u001b[1;34m'timesmar'\u001b[0m\u001b[1;33m]\u001b[0m\u001b[1;33m.\u001b[0m\u001b[0mdropna\u001b[0m\u001b[1;33m(\u001b[0m\u001b[1;33m)\u001b[0m\u001b[1;33m,\u001b[0m\u001b[0mresp\u001b[0m\u001b[1;33m[\u001b[0m\u001b[1;34m'jintendn'\u001b[0m\u001b[1;33m]\u001b[0m\u001b[1;33m.\u001b[0m\u001b[0mdropna\u001b[0m\u001b[1;33m(\u001b[0m\u001b[1;33m)\u001b[0m\u001b[1;33m,\u001b[0m\u001b[0maxis\u001b[0m\u001b[1;33m=\u001b[0m\u001b[1;36m0\u001b[0m\u001b[1;33m)\u001b[0m\u001b[1;33m\u001b[0m\u001b[0m\n\u001b[0m\u001b[0;32m      3\u001b[0m \u001b[1;32mprint\u001b[0m \u001b[0mspearm_corr\u001b[0m\u001b[1;33m\u001b[0m\u001b[0m\n",
      "\u001b[1;32mC:\\Users\\nursenakarakas\\AppData\\Roaming\\Python\\Python27\\site-packages\\scipy\\stats\\stats.pyc\u001b[0m in \u001b[0;36mspearmanr\u001b[1;34m(a, b, axis, nan_policy)\u001b[0m\n\u001b[0;32m   3307\u001b[0m         \u001b[0mbr\u001b[0m \u001b[1;33m=\u001b[0m \u001b[0mnp\u001b[0m\u001b[1;33m.\u001b[0m\u001b[0mapply_along_axis\u001b[0m\u001b[1;33m(\u001b[0m\u001b[0mrankdata\u001b[0m\u001b[1;33m,\u001b[0m \u001b[0maxisout\u001b[0m\u001b[1;33m,\u001b[0m \u001b[0mb\u001b[0m\u001b[1;33m)\u001b[0m\u001b[1;33m\u001b[0m\u001b[0m\n\u001b[0;32m   3308\u001b[0m     \u001b[0mn\u001b[0m \u001b[1;33m=\u001b[0m \u001b[0ma\u001b[0m\u001b[1;33m.\u001b[0m\u001b[0mshape\u001b[0m\u001b[1;33m[\u001b[0m\u001b[0maxisout\u001b[0m\u001b[1;33m]\u001b[0m\u001b[1;33m\u001b[0m\u001b[0m\n\u001b[1;32m-> 3309\u001b[1;33m     \u001b[0mrs\u001b[0m \u001b[1;33m=\u001b[0m \u001b[0mnp\u001b[0m\u001b[1;33m.\u001b[0m\u001b[0mcorrcoef\u001b[0m\u001b[1;33m(\u001b[0m\u001b[0mar\u001b[0m\u001b[1;33m,\u001b[0m \u001b[0mbr\u001b[0m\u001b[1;33m,\u001b[0m \u001b[0mrowvar\u001b[0m\u001b[1;33m=\u001b[0m\u001b[0maxisout\u001b[0m\u001b[1;33m)\u001b[0m\u001b[1;33m\u001b[0m\u001b[0m\n\u001b[0m\u001b[0;32m   3310\u001b[0m \u001b[1;33m\u001b[0m\u001b[0m\n\u001b[0;32m   3311\u001b[0m     \u001b[0molderr\u001b[0m \u001b[1;33m=\u001b[0m \u001b[0mnp\u001b[0m\u001b[1;33m.\u001b[0m\u001b[0mseterr\u001b[0m\u001b[1;33m(\u001b[0m\u001b[0mdivide\u001b[0m\u001b[1;33m=\u001b[0m\u001b[1;34m'ignore'\u001b[0m\u001b[1;33m)\u001b[0m  \u001b[1;31m# rs can have elements equal to 1\u001b[0m\u001b[1;33m\u001b[0m\u001b[0m\n",
      "\u001b[1;32mc:\\python27\\lib\\site-packages\\numpy\\lib\\function_base.pyc\u001b[0m in \u001b[0;36mcorrcoef\u001b[1;34m(x, y, rowvar, bias, ddof)\u001b[0m\n\u001b[0;32m   2993\u001b[0m         warnings.warn('bias and ddof have no effect and are deprecated',\n\u001b[0;32m   2994\u001b[0m                       DeprecationWarning, stacklevel=2)\n\u001b[1;32m-> 2995\u001b[1;33m     \u001b[0mc\u001b[0m \u001b[1;33m=\u001b[0m \u001b[0mcov\u001b[0m\u001b[1;33m(\u001b[0m\u001b[0mx\u001b[0m\u001b[1;33m,\u001b[0m \u001b[0my\u001b[0m\u001b[1;33m,\u001b[0m \u001b[0mrowvar\u001b[0m\u001b[1;33m)\u001b[0m\u001b[1;33m\u001b[0m\u001b[0m\n\u001b[0m\u001b[0;32m   2996\u001b[0m     \u001b[1;32mtry\u001b[0m\u001b[1;33m:\u001b[0m\u001b[1;33m\u001b[0m\u001b[0m\n\u001b[0;32m   2997\u001b[0m         \u001b[0md\u001b[0m \u001b[1;33m=\u001b[0m \u001b[0mdiag\u001b[0m\u001b[1;33m(\u001b[0m\u001b[0mc\u001b[0m\u001b[1;33m)\u001b[0m\u001b[1;33m\u001b[0m\u001b[0m\n",
      "\u001b[1;32mc:\\python27\\lib\\site-packages\\numpy\\lib\\function_base.pyc\u001b[0m in \u001b[0;36mcov\u001b[1;34m(m, y, rowvar, bias, ddof, fweights, aweights)\u001b[0m\n\u001b[0;32m   2863\u001b[0m         \u001b[1;32mif\u001b[0m \u001b[0mrowvar\u001b[0m \u001b[1;33m==\u001b[0m \u001b[1;36m0\u001b[0m \u001b[1;32mand\u001b[0m \u001b[0my\u001b[0m\u001b[1;33m.\u001b[0m\u001b[0mshape\u001b[0m\u001b[1;33m[\u001b[0m\u001b[1;36m0\u001b[0m\u001b[1;33m]\u001b[0m \u001b[1;33m!=\u001b[0m \u001b[1;36m1\u001b[0m\u001b[1;33m:\u001b[0m\u001b[1;33m\u001b[0m\u001b[0m\n\u001b[0;32m   2864\u001b[0m             \u001b[0my\u001b[0m \u001b[1;33m=\u001b[0m \u001b[0my\u001b[0m\u001b[1;33m.\u001b[0m\u001b[0mT\u001b[0m\u001b[1;33m\u001b[0m\u001b[0m\n\u001b[1;32m-> 2865\u001b[1;33m         \u001b[0mX\u001b[0m \u001b[1;33m=\u001b[0m \u001b[0mnp\u001b[0m\u001b[1;33m.\u001b[0m\u001b[0mvstack\u001b[0m\u001b[1;33m(\u001b[0m\u001b[1;33m(\u001b[0m\u001b[0mX\u001b[0m\u001b[1;33m,\u001b[0m \u001b[0my\u001b[0m\u001b[1;33m)\u001b[0m\u001b[1;33m)\u001b[0m\u001b[1;33m\u001b[0m\u001b[0m\n\u001b[0m\u001b[0;32m   2866\u001b[0m \u001b[1;33m\u001b[0m\u001b[0m\n\u001b[0;32m   2867\u001b[0m     \u001b[1;32mif\u001b[0m \u001b[0mddof\u001b[0m \u001b[1;32mis\u001b[0m \u001b[0mNone\u001b[0m\u001b[1;33m:\u001b[0m\u001b[1;33m\u001b[0m\u001b[0m\n",
      "\u001b[1;32mc:\\python27\\lib\\site-packages\\numpy\\core\\shape_base.pyc\u001b[0m in \u001b[0;36mvstack\u001b[1;34m(tup)\u001b[0m\n\u001b[0;32m    232\u001b[0m \u001b[1;33m\u001b[0m\u001b[0m\n\u001b[0;32m    233\u001b[0m     \"\"\"\n\u001b[1;32m--> 234\u001b[1;33m     \u001b[1;32mreturn\u001b[0m \u001b[0m_nx\u001b[0m\u001b[1;33m.\u001b[0m\u001b[0mconcatenate\u001b[0m\u001b[1;33m(\u001b[0m\u001b[1;33m[\u001b[0m\u001b[0matleast_2d\u001b[0m\u001b[1;33m(\u001b[0m\u001b[0m_m\u001b[0m\u001b[1;33m)\u001b[0m \u001b[1;32mfor\u001b[0m \u001b[0m_m\u001b[0m \u001b[1;32min\u001b[0m \u001b[0mtup\u001b[0m\u001b[1;33m]\u001b[0m\u001b[1;33m,\u001b[0m \u001b[1;36m0\u001b[0m\u001b[1;33m)\u001b[0m\u001b[1;33m\u001b[0m\u001b[0m\n\u001b[0m\u001b[0;32m    235\u001b[0m \u001b[1;33m\u001b[0m\u001b[0m\n\u001b[0;32m    236\u001b[0m \u001b[1;32mdef\u001b[0m \u001b[0mhstack\u001b[0m\u001b[1;33m(\u001b[0m\u001b[0mtup\u001b[0m\u001b[1;33m)\u001b[0m\u001b[1;33m:\u001b[0m\u001b[1;33m\u001b[0m\u001b[0m\n",
      "\u001b[1;31mValueError\u001b[0m: all the input array dimensions except for the concatenation axis must match exactly"
     ]
    }
   ],
   "source": [
    "\n",
    "spearm_corr=scipy.stats.spearmanr(resp['timesmar'].dropna(),resp['jintendn'].dropna(),axis=0)\n",
    "print spearm_corr"
   ]
  },
  {
   "cell_type": "code",
   "execution_count": null,
   "metadata": {},
   "outputs": [],
   "source": []
  }
 ],
 "metadata": {
  "kernelspec": {
   "display_name": "Python 2",
   "language": "python",
   "name": "python2"
  },
  "language_info": {
   "codemirror_mode": {
    "name": "ipython",
    "version": 2
   },
   "file_extension": ".py",
   "mimetype": "text/x-python",
   "name": "python",
   "nbconvert_exporter": "python",
   "pygments_lexer": "ipython2",
   "version": "2.7.12"
  }
 },
 "nbformat": 4,
 "nbformat_minor": 2
}
